{
 "cells": [
  {
   "cell_type": "code",
   "execution_count": null,
   "metadata": {
    "collapsed": true
   },
   "outputs": [],
   "source": [
    "class Person(object):\n",
    "    total_eyes = 2   # 类变量写在方法外，所有对象共用，可通过类和对象访问\n",
    "    \n",
    "    def __init__(self, first_name, last_name):\n",
    "        self.first_name = first_name  # 成员变量，每个对象独有，只能通过对象访问\n",
    "        self.last_name = last_name\n",
    "        \n",
    "    def full_name(self):\n",
    "        return '%s %s' % (self.first_name, self.last_name)\n",
    "    \n",
    "    @classmethod\n",
    "    def add_eye(cls):\n",
    "        cls.total_eyes += 1\n",
    "\n",
    "\n",
    "xiaofan = Person('Liu', 'Xiaofan')\n",
    "# xiaofan.last_name = 'CcccFz'\n",
    "# Person.total_eyes = 3\n",
    "# xiaofan.add_eye()\n",
    "print(xiaofan.last_name)\n",
    "print(xiaofan.total_eyes)   # 也可通过类访问\n",
    "\n",
    "print()\n",
    "\n",
    "pengjia = Person('Jiang', 'Pengjia')\n",
    "print(pengjia.last_name)\n",
    "print(pengjia.total_eyes)\n",
    "\n",
    "print()\n",
    "print(xiaofan.full_name())\n"
   ]
  },
  {
   "cell_type": "code",
   "execution_count": null,
   "metadata": {
    "collapsed": true
   },
   "outputs": [],
   "source": [
    "# class Person\n",
    "#     def initialize(first_name, last_name)\n",
    "#         @first_name = first_name\n",
    "#         @last_name = last_name\n",
    "#     end\n",
    "#     \n",
    "#     def full_name()\n",
    "#         @first_name + ' ' + @last_name\n",
    "#     end\n",
    "# end\n",
    "# \n",
    "# xiaofan = Person.new('Liu', 'xiaofan')\n",
    "# puts xiaofan.full_name\n"
   ]
  }
 ],
 "metadata": {
  "kernelspec": {
   "display_name": "Python 2",
   "language": "python",
   "name": "python2"
  },
  "language_info": {
   "codemirror_mode": {
    "name": "ipython",
    "version": 2
   },
   "file_extension": ".py",
   "mimetype": "text/x-python",
   "name": "python",
   "nbconvert_exporter": "python",
   "pygments_lexer": "ipython2",
   "version": "2.7.6"
  }
 },
 "nbformat": 4,
 "nbformat_minor": 0
}
