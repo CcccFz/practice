{
 "cells": [
  {
   "cell_type": "code",
   "execution_count": 8,
   "metadata": {
    "collapsed": true
   },
   "outputs": [
    {
     "name": "stdout",
     "output_type": "stream",
     "text": [
      "[0, 2, 4, 6, 8, 10, 12, 14, 16, 18, 20, 22, 24, 26, 28, 30, 32, 34, 36, 38, 40, 42, 44, 46, 48, 50, 52, 54, 56, 58, 60, 62, 64, 66, 68, 70, 72, 74, 76, 78, 80, 82, 84, 86, 88, 90, 92, 94, 96, 98, 100, 102, 104, 106, 108, 110, 112, 114, 116, 118, 120, 122, 124, 126, 128, 130, 132, 134, 136, 138, 140, 142, 144, 146, 148, 150, 152, 154, 156, 158, 160, 162, 164, 166, 168, 170, 172, 174, 176, 178, 180, 182, 184, 186, 188, 190, 192, 194, 196, 198]\n{'aa': 2, 'cc': 6, 'bb': 4}\n<generator object <genexpr> at 0x0000013E622F6410>\n0\n2\n4\n"
     ]
    }
   ],
   "source": [
    "# string、list、tuple、dict是常见 可迭代对象 ，支持for、[]操作\n",
    "# 迭代器 具有next操作\n",
    "list_ = [1, 2, 3]\n",
    "str_ = 'abc'\n",
    "\n",
    "print(list_[0])\n",
    "print(str_[0])\n",
    "\n",
    "# iter = iter(list_)\n",
    "# print(next(it))\n",
    "# print(next(it))\n",
    "# print(next(it))\n",
    "# \n",
    "# iter = iter(str_)\n",
    "# print(next(it))\n",
    "# print(next(it))\n",
    "# print(next(it))"
   ]
  },
  {
   "cell_type": "code",
   "execution_count": null,
   "metadata": {
    "collapsed": true
   },
   "outputs": [
    {
     "name": "stdout",
     "output_type": "stream",
     "text": [
      "[0, 2, 4, 6, 8, 10, 12, 14, 16, 18, 20, 22, 24, 26, 28, 30, 32, 34, 36, 38, 40, 42, 44, 46, 48, 50, 52, 54, 56, 58, 60, 62, 64, 66, 68, 70, 72, 74, 76, 78, 80, 82, 84, 86, 88, 90, 92, 94, 96, 98, 100, 102, 104, 106, 108, 110, 112, 114, 116, 118, 120, 122, 124, 126, 128, 130, 132, 134, 136, 138, 140, 142, 144, 146, 148, 150, 152, 154, 156, 158, 160, 162, 164, 166, 168, 170, 172, 174, 176, 178, 180, 182, 184, 186, 188, 190, 192, 194, 196, 198]\n{'aa': 2, 'cc': 6, 'bb': 4}\n<generator object <genexpr> at 0x0000013E622F6410>\n0\n2\n4\n"
     ]
    }
   ],
   "source": [
    "# 解读迭代操作的实现\n",
    "for i in list_:\n",
    "    print(i)\n",
    "\n",
    "for i in str_:\n",
    "    print(i)\n"
   ]
  },
  {
   "cell_type": "code",
   "execution_count": 23,
   "metadata": {
    "collapsed": true
   },
   "outputs": [
    {
     "name": "stdout",
     "output_type": "stream",
     "text": [
      "[0, 2, 4, 6, 8, 10, 12, 14, 16, 18, 20, 22, 24, 26, 28, 30, 32, 34, 36, 38, 40, 42, 44, 46, 48, 50, 52, 54, 56, 58, 60, 62, 64, 66, 68, 70, 72, 74, 76, 78, 80, 82, 84, 86, 88, 90, 92, 94, 96, 98, 100, 102, 104, 106, 108, 110, 112, 114, 116, 118, 120, 122, 124, 126, 128, 130, 132, 134, 136, 138, 140, 142, 144, 146, 148, 150, 152, 154, 156, 158, 160, 162, 164, 166, 168, 170, 172, 174, 176, 178, 180, 182, 184, 186, 188, 190, 192, 194, 196, 198]\n{'aa': 2, 'cc': 6, 'bb': 4}\n<generator object <genexpr> at 0x0000013E622F6410>\n0\n2\n4\n"
     ]
    }
   ],
   "source": [
    "# 列表推倒式、字典推倒式、生成器表达式\n",
    "list_ = [i * 2 for i in range(100)]\n",
    "print(list_)\n",
    "\n",
    "dict_ = {k * 2: v * 2 for k, v in {'a': 1, 'b': 2, 'c': 3}.items()}\n",
    "print(dict_)\n",
    "\n",
    "generator_ = (i * 2 for i in range(100))\n",
    "print(generator_)\n",
    "\n",
    "\n",
    "# 生成器函数\n",
    "def generator_func(end):\n",
    "    i = 0\n",
    "    while i < end:\n",
    "        yield i * 2\n",
    "        i += 1\n",
    "\n",
    "\n",
    "generator_ = generator_func(100)\n",
    "print(next(generator_))\n",
    "print(next(generator_))\n",
    "print(next(generator_))"
   ]
  }
 ],
 "metadata": {
  "kernelspec": {
   "display_name": "Python 2",
   "language": "python",
   "name": "python2"
  },
  "language_info": {
   "codemirror_mode": {
    "name": "ipython",
    "version": 2
   },
   "file_extension": ".py",
   "mimetype": "text/x-python",
   "name": "python",
   "nbconvert_exporter": "python",
   "pygments_lexer": "ipython2",
   "version": "2.7.6"
  }
 },
 "nbformat": 4,
 "nbformat_minor": 0
}
