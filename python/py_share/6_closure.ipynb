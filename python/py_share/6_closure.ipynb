{
 "cells": [
  {
   "cell_type": "code",
   "execution_count": null,
   "metadata": {
    "collapsed": true
   },
   "outputs": [
    {
     "name": "stdout",
     "output_type": "stream",
     "text": [
      "Order Process Success !!!\n"
     ]
    }
   ],
   "source": [
    "# 函数能作为参数传递，能作为返回值\n"
   ]
  },
  {
   "cell_type": "code",
   "execution_count": null,
   "metadata": {
    "collapsed": true
   },
   "outputs": [
    {
     "name": "stdout",
     "output_type": "stream",
     "text": [
      "Order Process Success !!!\n"
     ]
    }
   ],
   "source": [
    "# 闭包\n",
    "def make_pow(n):        \n",
    "    def inner(x):        \n",
    "        return pow(x, n)   # 求幂\n",
    "    return inner\n"
   ]
  },
  {
   "cell_type": "code",
   "execution_count": 18,
   "metadata": {
    "collapsed": true
   },
   "outputs": [
    {
     "name": "stdout",
     "output_type": "stream",
     "text": [
      "Order Process Success !!!\n"
     ]
    }
   ],
   "source": [
    "# 装饰器\n",
    "\n",
    "def notify():\n",
    "    print('上报 +1 订单数') \n",
    "\n",
    "def order_success():\n",
    "    print('Order Process Success !!!')\n",
    "    \n",
    "order_success()\n",
    "\n"
   ]
  }
 ],
 "metadata": {
  "kernelspec": {
   "display_name": "Python 2",
   "language": "python",
   "name": "python2"
  },
  "language_info": {
   "codemirror_mode": {
    "name": "ipython",
    "version": 2
   },
   "file_extension": ".py",
   "mimetype": "text/x-python",
   "name": "python",
   "nbconvert_exporter": "python",
   "pygments_lexer": "ipython2",
   "version": "2.7.6"
  }
 },
 "nbformat": 4,
 "nbformat_minor": 0
}
