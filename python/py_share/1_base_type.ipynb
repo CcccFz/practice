{
 "cells": [
  {
   "cell_type": "code",
   "execution_count": 38,
   "metadata": {
    "collapsed": true
   },
   "outputs": [
    {
     "name": "stdout",
     "output_type": "stream",
     "text": [
      "整形: 1\n字符串: abc\n元组: (1, 2, 'a')\n列表: [2, 4, 'b']\n字典: {'b': 2, 'a': 1}\n集合: {'c', 3, 6}\n"
     ]
    }
   ],
   "source": [
    "# 常用类型\n",
    "\n",
    "num_ = 1    # 整形\n",
    "print('整形:', num_)\n",
    "\n",
    "str_ = 'abc'    # 字符串\n",
    "print('字符串:', str_)\n",
    "\n",
    "tuple_ = (1, 2, 'a')    # 元组，元素不可变\n",
    "print('元组:', tuple_)\n",
    "\n",
    "list_ = [2, 4, 'b']     # 列表\n",
    "print('列表:', list_)\n",
    "\n",
    "dict_ = {'a': 1, 'b': 2}    # 字典，无序，映射类型，键值对结构\n",
    "print('字典:', dict_)\n",
    "\n",
    "set_ = {3, 6, 'c'}   # 集合，元素不重复\n",
    "print('集合:', set_)"
   ]
  },
  {
   "cell_type": "code",
   "execution_count": 25,
   "metadata": {
    "collapsed": true
   },
   "outputs": [
    {
     "name": "stdout",
     "output_type": "stream",
     "text": [
      "整形: 1\n字符串: abc\n元组: (1, 2, 'a')\n列表: [2, 4, 'b']\n字典: {'b': 2, 'a': 1}\n集合: {'c', 3, 6}\n"
     ]
    }
   ],
   "source": [
    "# list、dict、set是可变对象\n",
    "\n",
    "list_ = [2, 4, 'b']\n",
    "list_[0] = 10\n",
    "print(list_)\n",
    "\n",
    "list_.append(20)\n",
    "print(list_)"
   ]
  },
  {
   "cell_type": "code",
   "execution_count": 39,
   "metadata": {},
   "outputs": [
    {
     "ename": "TypeError",
     "evalue": "'tuple' object does not support item assignment",
     "traceback": [
      "\u001b[1;31m---------------------------------------------------------------------------\u001b[0m",
      "\u001b[1;31mTypeError\u001b[0m                                 Traceback (most recent call last)",
      "\u001b[1;32m<ipython-input-39-49f87f89650e>\u001b[0m in \u001b[0;36m<module>\u001b[1;34m\u001b[0m\n\u001b[0;32m      2\u001b[0m \u001b[1;33m\u001b[0m\u001b[0m\n\u001b[0;32m      3\u001b[0m \u001b[0mtuple_\u001b[0m \u001b[1;33m=\u001b[0m \u001b[1;33m(\u001b[0m\u001b[1;36m1\u001b[0m\u001b[1;33m,\u001b[0m \u001b[1;36m2\u001b[0m\u001b[1;33m,\u001b[0m \u001b[1;34m'a'\u001b[0m\u001b[1;33m)\u001b[0m\u001b[1;33m\u001b[0m\u001b[0m\n\u001b[1;32m----> 4\u001b[1;33m \u001b[0mtuple_\u001b[0m\u001b[1;33m[\u001b[0m\u001b[1;36m2\u001b[0m\u001b[1;33m]\u001b[0m \u001b[1;33m=\u001b[0m \u001b[1;34m'A'\u001b[0m\u001b[1;33m\u001b[0m\u001b[0m\n\u001b[0m\u001b[0;32m      5\u001b[0m \u001b[0mtuple_\u001b[0m\u001b[1;33m.\u001b[0m\u001b[0mappend\u001b[0m\u001b[1;33m(\u001b[0m\u001b[1;34m'b'\u001b[0m\u001b[1;33m)\u001b[0m\u001b[1;33m\u001b[0m\u001b[0m\n\u001b[0;32m      6\u001b[0m \u001b[0mprint\u001b[0m\u001b[1;33m(\u001b[0m\u001b[0mtuple_\u001b[0m\u001b[1;33m)\u001b[0m\u001b[1;33m\u001b[0m\u001b[0m\n",
      "\u001b[1;31mTypeError\u001b[0m: 'tuple' object does not support item assignment"
     ],
     "output_type": "error"
    }
   ],
   "source": [
    "# int、string、tuple是不可变对象\n",
    "\n",
    "tuple_ = (1, 2, 'a')\n",
    "tuple_[2] = 'A'\n",
    "tuple_.append('b')\n",
    "print(tuple_)"
   ]
  },
  {
   "cell_type": "code",
   "execution_count": 43,
   "metadata": {
    "collapsed": false
   },
   "outputs": [
    {
     "name": "stdout",
     "output_type": "stream",
     "text": [
      "[1, 2, 3]\n1\nfunc\nhello\n"
     ]
    }
   ],
   "source": [
    "# string、list、tuple是序列，有+、*、index、in 切片等通用操作\n",
    "\n",
    "print([1, 2] + [3, 'a'])\n",
    "print([1, 2] * 2)\n",
    "\n",
    "print()\n",
    "\n",
    "list_ = [1, 'a', 2]\n",
    "print(list_.index('a'))\n",
    "print(list_[1:3])\n",
    "print(2 in list_)\n",
    "\n",
    "print()\n",
    "\n",
    "str_ = 'abc'\n",
    "print(str_.index('a'))\n",
    "print(str_[1:3])\n",
    "print('a' in str_)"
   ]
  },
  {
   "cell_type": "code",
   "execution_count": null,
   "metadata": {
    "collapsed": false
   },
   "outputs": [
    {
     "name": "stdout",
     "output_type": "stream",
     "text": [
      "[1, 2, 3]\n1\nfunc\nhello\n"
     ]
    }
   ],
   "source": [
    "# dict基本操作\n",
    "\n",
    "dict_ = {'a': 1, 'b': 2}\n",
    "print(dict_['b'])\n",
    "\n",
    "dict_['a'] = 10\n",
    "print(dict_)"
   ]
  },
  {
   "cell_type": "code",
   "execution_count": 3,
   "metadata": {
    "collapsed": false
   },
   "outputs": [
    {
     "name": "stdout",
     "output_type": "stream",
     "text": [
      "[1, 2, 3]\n1\nfunc\nhello\n"
     ]
    }
   ],
   "source": [
    "# 一切皆对象\n",
    "\n",
    "list_ = [3, 2, 1]\n",
    "list_.sort()\n",
    "print(list_)\n",
    "\n",
    "num_ = 1\n",
    "print(num_.__abs__())\n",
    "\n",
    "\n",
    "def func():\n",
    "    return 'hello'\n",
    "\n",
    "tmp = func\n",
    "print(tmp.__name__)\n",
    "print(tmp())"
   ]
  }
 ],
 "metadata": {
  "kernelspec": {
   "display_name": "Python 2",
   "language": "python",
   "name": "python2"
  },
  "language_info": {
   "codemirror_mode": {
    "name": "ipython",
    "version": 2
   },
   "file_extension": ".py",
   "mimetype": "text/x-python",
   "name": "python",
   "nbconvert_exporter": "python",
   "pygments_lexer": "ipython2",
   "version": "2.7.6"
  }
 },
 "nbformat": 4,
 "nbformat_minor": 0
}
