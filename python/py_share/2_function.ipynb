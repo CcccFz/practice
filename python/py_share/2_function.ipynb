{
 "cells": [
  {
   "cell_type": "code",
   "execution_count": null,
   "metadata": {
    "collapsed": true
   },
   "outputs": [
    {
     "name": "stdout",
     "output_type": "stream",
     "text": [
      "5\n"
     ]
    }
   ],
   "source": [
    "# 定义\n",
    "def add(x, y):\n",
    "    return x + y\n",
    "\n",
    "\n",
    "print('1 + 2 =', add(1, 2))"
   ]
  },
  {
   "cell_type": "code",
   "execution_count": null,
   "metadata": {
    "collapsed": true
   },
   "outputs": [
    {
     "name": "stdout",
     "output_type": "stream",
     "text": [
      "5\n"
     ]
    }
   ],
   "source": [
    "# 可以有\"多个\"返回值\n",
    "def func(x, y):\n",
    "    return x * 2, y * 2\n",
    "    \n",
    "    \n",
    "ret1, ret2 = func(2, 3)\n",
    "print(ret1, ret2)\n"
   ]
  },
  {
   "cell_type": "code",
   "execution_count": 15,
   "metadata": {
    "collapsed": true
   },
   "outputs": [
    {
     "name": "stdout",
     "output_type": "stream",
     "text": [
      "5\n"
     ]
    }
   ],
   "source": [
    "# 默认参数，默认参函必须写在最后\n",
    "def func(x, y=0):\n",
    "    print(x + y)\n",
    "\n",
    "\n",
    "func(1)\n",
    "func(1, 2)"
   ]
  },
  {
   "cell_type": "code",
   "execution_count": 13,
   "metadata": {
    "collapsed": true
   },
   "outputs": [
    {
     "name": "stdout",
     "output_type": "stream",
     "text": [
      "5\n"
     ]
    }
   ],
   "source": [
    "# 可变参数\n",
    "def func(*args):    \n",
    "    print(sum(args))\n",
    "\n",
    "\n",
    "func(1, 2)\n",
    "func(1, 2, 4)"
   ]
  },
  {
   "cell_type": "code",
   "execution_count": null,
   "metadata": {
    "collapsed": true
   },
   "outputs": [
    {
     "name": "stdout",
     "output_type": "stream",
     "text": [
      "5\n"
     ]
    }
   ],
   "source": [
    "# 关键字参数\n",
    "def func(**kwargs):\n",
    "    print(kwargs['x'] + kwargs['y'])\n",
    "    \n",
    "\n",
    "func(x=1, y=2)\n",
    "func(y=2, x=1)\n"
   ]
  },
  {
   "cell_type": "code",
   "execution_count": 20,
   "metadata": {
    "collapsed": true
   },
   "outputs": [
    {
     "name": "stdout",
     "output_type": "stream",
     "text": [
      "5\n"
     ]
    }
   ],
   "source": [
    "# 内部函数\n",
    "def func():\n",
    "    x = 1\n",
    "    \n",
    "    def inner(y):\n",
    "        return x + y\n",
    "    \n",
    "    print(inner(4))\n",
    "\n",
    "\n",
    "func()"
   ]
  },
  {
   "cell_type": "code",
   "execution_count": 22,
   "metadata": {
    "collapsed": true
   },
   "outputs": [
    {
     "name": "stdout",
     "output_type": "stream",
     "text": [
      "5\n"
     ]
    }
   ],
   "source": [
    "# 匿名函数\n",
    "def func():\n",
    "    x = 1\n",
    "    \n",
    "    inner = lambda y: x + y\n",
    "    \n",
    "    print(inner(4))\n",
    "\n",
    "    \n",
    "func()"
   ]
  }
 ],
 "metadata": {
  "kernelspec": {
   "display_name": "Python 2",
   "language": "python",
   "name": "python2"
  },
  "language_info": {
   "codemirror_mode": {
    "name": "ipython",
    "version": 2
   },
   "file_extension": ".py",
   "mimetype": "text/x-python",
   "name": "python",
   "nbconvert_exporter": "python",
   "pygments_lexer": "ipython2",
   "version": "2.7.6"
  }
 },
 "nbformat": 4,
 "nbformat_minor": 0
}
